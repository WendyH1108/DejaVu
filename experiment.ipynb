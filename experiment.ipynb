{
 "cells": [
  {
   "cell_type": "code",
   "execution_count": 11,
   "metadata": {},
   "outputs": [],
   "source": [
    "import os\n",
    "os.environ[\"CUDA_VISIBLE_DEVICES\"] = \"0\" "
   ]
  },
  {
   "cell_type": "code",
   "execution_count": 1,
   "metadata": {},
   "outputs": [
    {
     "name": "stderr",
     "output_type": "stream",
     "text": [
      "/home/tianle/miniconda3/envs/dejavu/lib/python3.8/site-packages/tqdm/auto.py:21: TqdmWarning: IProgress not found. Please update jupyter and ipywidgets. See https://ipywidgets.readthedocs.io/en/stable/user_install.html\n",
      "  from .autonotebook import tqdm as notebook_tqdm\n"
     ]
    }
   ],
   "source": [
    "import torch\n",
    "import matplotlib.pyplot as plt\n",
    "import seaborn as sns\n",
    "import numpy as np\n",
    "import json"
   ]
  },
  {
   "cell_type": "code",
   "execution_count": 6,
   "metadata": {},
   "outputs": [],
   "source": [
    "a = torch.load(\"sparse_train_data/label_layer_0.pt\")"
   ]
  },
  {
   "cell_type": "code",
   "execution_count": 5,
   "metadata": {},
   "outputs": [
    {
     "data": {
      "text/plain": [
       "array([[[ 1.9989e-03,  5.5237e-03, -7.6675e-03, ...,  1.2657e-02,\n",
       "          5.9395e-03,  3.1490e-03],\n",
       "        [ 1.9989e-03,  5.5237e-03, -7.6675e-03, ...,  1.2657e-02,\n",
       "          5.9395e-03,  3.1490e-03],\n",
       "        [ 1.9989e-03,  5.5237e-03, -7.6675e-03, ...,  1.2657e-02,\n",
       "          5.9395e-03,  3.1490e-03],\n",
       "        ...,\n",
       "        [ 3.9856e-02, -1.1055e-02, -1.0803e-02, ...,  1.0101e-02,\n",
       "         -5.8289e-02, -3.0731e-02],\n",
       "        [-9.8190e-03,  2.4612e-02, -2.5558e-03, ...,  2.8778e-02,\n",
       "         -3.3073e-03,  1.1826e-02],\n",
       "        [-2.9831e-03, -1.1093e-02, -2.8229e-04, ...,  1.1711e-03,\n",
       "         -1.3428e-03, -2.8244e-02]],\n",
       "\n",
       "       [[ 1.9989e-03,  5.5237e-03, -7.6675e-03, ...,  1.2657e-02,\n",
       "          5.9395e-03,  3.1490e-03],\n",
       "        [ 1.9989e-03,  5.5237e-03, -7.6675e-03, ...,  1.2657e-02,\n",
       "          5.9395e-03,  3.1490e-03],\n",
       "        [ 1.9989e-03,  5.5237e-03, -7.6675e-03, ...,  1.2657e-02,\n",
       "          5.9395e-03,  3.1490e-03],\n",
       "        ...,\n",
       "        [-4.7302e-04, -1.7349e-02, -9.1324e-03, ...,  2.7649e-02,\n",
       "         -1.4862e-02,  4.8828e-02],\n",
       "        [-3.3142e-02, -1.1787e-03,  5.5771e-03, ..., -1.7471e-02,\n",
       "          4.7073e-03, -1.7242e-02],\n",
       "        [ 4.5166e-02,  1.1642e-02, -2.6855e-02, ...,  2.3861e-03,\n",
       "         -2.8198e-02,  1.2978e-02]],\n",
       "\n",
       "       [[ 1.9989e-03,  5.5237e-03, -7.6675e-03, ...,  1.2657e-02,\n",
       "          5.9395e-03,  3.1490e-03],\n",
       "        [ 1.9989e-03,  5.5237e-03, -7.6675e-03, ...,  1.2657e-02,\n",
       "          5.9395e-03,  3.1490e-03],\n",
       "        [ 1.9989e-03,  5.5237e-03, -7.6675e-03, ...,  1.2657e-02,\n",
       "          5.9395e-03,  3.1490e-03],\n",
       "        ...,\n",
       "        [-6.7749e-03,  1.1566e-02,  2.6871e-02, ..., -3.3855e-04,\n",
       "          1.1360e-02, -5.6915e-03],\n",
       "        [ 3.1403e-02, -1.2970e-03, -4.2801e-03, ...,  3.2776e-02,\n",
       "         -4.5380e-02,  6.4774e-03],\n",
       "        [ 2.6733e-02,  9.4147e-03, -3.5767e-02, ...,  1.6861e-03,\n",
       "         -4.3488e-02,  4.8187e-02]],\n",
       "\n",
       "       ...,\n",
       "\n",
       "       [[ 1.9989e-03,  5.5237e-03, -7.6675e-03, ...,  1.2657e-02,\n",
       "          5.9395e-03,  3.1490e-03],\n",
       "        [ 1.9989e-03,  5.5237e-03, -7.6675e-03, ...,  1.2657e-02,\n",
       "          5.9395e-03,  3.1490e-03],\n",
       "        [ 1.9989e-03,  5.5237e-03, -7.6675e-03, ...,  1.2657e-02,\n",
       "          5.9395e-03,  3.1490e-03],\n",
       "        ...,\n",
       "        [-3.0518e-05, -1.6113e-02, -1.5106e-02, ..., -1.1299e-02,\n",
       "         -1.9012e-02,  1.3412e-02],\n",
       "        [ 4.4861e-03, -1.9745e-02,  4.4922e-02, ..., -2.9945e-03,\n",
       "          1.3245e-02,  3.1433e-03],\n",
       "        [ 4.1534e-02, -3.6621e-03, -1.0193e-02, ...,  3.0655e-02,\n",
       "          2.6436e-03, -3.2227e-02]],\n",
       "\n",
       "       [[ 1.9989e-03,  5.5237e-03, -7.6675e-03, ...,  1.2657e-02,\n",
       "          5.9395e-03,  3.1490e-03],\n",
       "        [ 1.9989e-03,  5.5237e-03, -7.6675e-03, ...,  1.2657e-02,\n",
       "          5.9395e-03,  3.1490e-03],\n",
       "        [ 1.9989e-03,  5.5237e-03, -7.6675e-03, ...,  1.2657e-02,\n",
       "          5.9395e-03,  3.1490e-03],\n",
       "        ...,\n",
       "        [-1.1559e-02,  4.5776e-03, -4.4861e-03, ...,  3.4241e-02,\n",
       "         -3.8544e-02,  2.0645e-02],\n",
       "        [ 5.0964e-02, -3.8147e-04,  1.4206e-02, ...,  1.3123e-02,\n",
       "          5.7373e-03, -5.0507e-03],\n",
       "        [-2.2720e-02, -1.5364e-03,  3.0875e-04, ...,  8.2245e-03,\n",
       "          2.4200e-02, -1.0231e-02]],\n",
       "\n",
       "       [[ 1.9989e-03,  5.5237e-03, -7.6675e-03, ...,  1.2657e-02,\n",
       "          5.9395e-03,  3.1490e-03],\n",
       "        [ 1.9989e-03,  5.5237e-03, -7.6675e-03, ...,  1.2657e-02,\n",
       "          5.9395e-03,  3.1490e-03],\n",
       "        [ 1.9989e-03,  5.5237e-03, -7.6675e-03, ...,  1.2657e-02,\n",
       "          5.9395e-03,  3.1490e-03],\n",
       "        ...,\n",
       "        [-7.5111e-03, -1.9073e-02, -2.9739e-02, ...,  2.0355e-02,\n",
       "         -4.3945e-02,  3.9177e-03],\n",
       "        [ 5.4138e-02, -4.9362e-03, -1.9226e-02, ...,  1.8631e-02,\n",
       "         -5.7411e-03, -1.9592e-02],\n",
       "        [ 3.6926e-03, -2.3590e-02, -1.5144e-03, ..., -9.1248e-03,\n",
       "         -4.5258e-02, -5.3101e-02]]], dtype=float16)"
      ]
     },
     "execution_count": 5,
     "metadata": {},
     "output_type": "execute_result"
    }
   ],
   "source": []
  },
  {
   "cell_type": "code",
   "execution_count": 3,
   "metadata": {},
   "outputs": [],
   "source": [
    "emb_model = torch.load(\"./models/facebook_opt_13b/pytorch_embs.pt\")\n",
    "head_model = torch.load(\"./models/facebook_opt_13b/pytorch_lm_head.pt\")\n",
    "model = torch.load(\"./models/facebook_opt_13b/pytorch_3.pt\")"
   ]
  },
  {
   "cell_type": "code",
   "execution_count": 5,
   "metadata": {},
   "outputs": [
    {
     "data": {
      "text/plain": [
       "torch.Size([50272, 5120])"
      ]
     },
     "execution_count": 5,
     "metadata": {},
     "output_type": "execute_result"
    }
   ],
   "source": [
    "head_model['lm_head.weight'].shape"
   ]
  },
  {
   "cell_type": "code",
   "execution_count": 23,
   "metadata": {},
   "outputs": [
    {
     "data": {
      "text/plain": [
       "tensor([ 0.0350,  0.0615,  0.0450,  ...,  0.0488, -0.0339, -0.0019])"
      ]
     },
     "execution_count": 23,
     "metadata": {},
     "output_type": "execute_result"
    }
   ],
   "source": [
    "model[\"self_attn_layer_norm.bias\"]"
   ]
  },
  {
   "cell_type": "code",
   "execution_count": 3,
   "metadata": {},
   "outputs": [],
   "source": [
    "data_path = \"c4_train.jsonl\""
   ]
  },
  {
   "cell_type": "code",
   "execution_count": 4,
   "metadata": {},
   "outputs": [],
   "source": [
    "with open(data_path) as f:\n",
    "    data = []\n",
    "    for line in f:\n",
    "        if line.strip() != '':\n",
    "            data.append({'request': json.loads(line)})"
   ]
  },
  {
   "cell_type": "code",
   "execution_count": null,
   "metadata": {},
   "outputs": [],
   "source": []
  },
  {
   "cell_type": "markdown",
   "metadata": {},
   "source": []
  },
  {
   "cell_type": "markdown",
   "metadata": {},
   "source": []
  }
 ],
 "metadata": {
  "kernelspec": {
   "display_name": "dejavu",
   "language": "python",
   "name": "python3"
  },
  "language_info": {
   "codemirror_mode": {
    "name": "ipython",
    "version": 3
   },
   "file_extension": ".py",
   "mimetype": "text/x-python",
   "name": "python",
   "nbconvert_exporter": "python",
   "pygments_lexer": "ipython3",
   "version": "3.8.18"
  },
  "orig_nbformat": 4
 },
 "nbformat": 4,
 "nbformat_minor": 2
}
